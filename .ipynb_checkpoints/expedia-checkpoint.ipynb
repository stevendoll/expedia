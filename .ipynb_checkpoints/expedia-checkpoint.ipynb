{
 "cells": [
  {
   "cell_type": "code",
   "execution_count": 1,
   "metadata": {
    "collapsed": true
   },
   "outputs": [],
   "source": [
    "%matplotlib inline\n",
    "\n",
    "import pandas as pd\n",
    "import numpy as np\n",
    "import seaborn as sns\n",
    "import numpy as np\n",
    "import matplotlib\n",
    "from matplotlib import pyplot as plt\n",
    "\n",
    "from sklearn.linear_model import LinearRegression\n",
    "from sklearn.linear_model import LogisticRegression\n",
    "\n",
    "from sklearn.cross_validation import cross_val_score\n",
    "from sklearn.cross_validation import train_test_split\n",
    "\n",
    "from sklearn.metrics import accuracy_score\n",
    "from sklearn.metrics import mean_squared_error\n",
    "from sklearn.metrics import classification_report\n",
    "from sklearn.metrics import confusion_matrix\n",
    "\n",
    "from sklearn.svm import LinearSVC\n",
    "from sklearn.linear_model import LogisticRegression\n",
    "from sklearn.naive_bayes import MultinomialNB\n",
    "from sklearn.neighbors import KNeighborsClassifier\n",
    "from sklearn.tree import DecisionTreeClassifier\n"
   ]
  },
  {
   "cell_type": "code",
   "execution_count": 2,
   "metadata": {
    "collapsed": true
   },
   "outputs": [],
   "source": [
    "models = {'svm': LinearSVC(), \n",
    "          'log_reg': LogisticRegression(), \n",
    "          'naive_baives': MultinomialNB(), \n",
    "          'knn': KNeighborsClassifier(),\n",
    "          'dec_tree': DecisionTreeClassifier()}"
   ]
  },
  {
   "cell_type": "code",
   "execution_count": 23,
   "metadata": {
    "collapsed": false
   },
   "outputs": [],
   "source": [
    "df = pd.read_csv('data/train_small.csv')\n",
    "#df.sample(100000).to_csv('test_small.csv', encoding='utf-8')\n",
    "#df.fillna()"
   ]
  },
  {
   "cell_type": "code",
   "execution_count": 11,
   "metadata": {
    "collapsed": false
   },
   "outputs": [
    {
     "data": {
      "text/plain": [
       "(8000, 2000)"
      ]
     },
     "execution_count": 11,
     "metadata": {},
     "output_type": "execute_result"
    }
   ],
   "source": [
    "df_train, df_test = train_test_split(df.sample(10000), test_size = 0.2)\n",
    "len(df_train), len(df_test)"
   ]
  },
  {
   "cell_type": "code",
   "execution_count": 17,
   "metadata": {
    "collapsed": false
   },
   "outputs": [
    {
     "data": {
      "text/plain": [
       "Index(['Unnamed: 0', 'date_time', 'site_name', 'posa_continent',\n",
       "       'user_location_country', 'user_location_region', 'user_location_city',\n",
       "       'orig_destination_distance', 'user_id', 'is_mobile', 'is_package',\n",
       "       'channel', 'srch_ci', 'srch_co', 'srch_adults_cnt', 'srch_children_cnt',\n",
       "       'srch_rm_cnt', 'srch_destination_id', 'srch_destination_type_id',\n",
       "       'is_booking', 'cnt', 'hotel_continent', 'hotel_country', 'hotel_market',\n",
       "       'hotel_cluster'],\n",
       "      dtype='object')"
      ]
     },
     "execution_count": 17,
     "metadata": {},
     "output_type": "execute_result"
    }
   ],
   "source": [
    "#df.describe\n",
    "df.columns"
   ]
  },
  {
   "cell_type": "code",
   "execution_count": 15,
   "metadata": {
    "collapsed": false
   },
   "outputs": [
    {
     "data": {
      "text/plain": [
       "array([91, 36, 11, 39, 98, 21, 47, 23,  3, 66,  1, 52,  2, 78, 65, 55, 59,\n",
       "       10, 46, 27, 99, 95, 25, 70, 28, 89, 85, 94, 96, 33, 77, 58, 68, 38,\n",
       "       83,  5, 32, 92, 49, 30, 97, 60, 42, 48,  7, 63, 29, 20, 69, 81, 64,\n",
       "        4, 18, 40, 34, 16, 84, 72, 90, 12, 56, 17, 15, 54, 76, 93,  6,  0,\n",
       "       44, 26, 41, 73, 37, 50, 57, 82, 43, 45, 61, 24,  9, 75, 62, 35, 19,\n",
       "       67, 86, 51, 87,  8, 13, 74, 22, 79, 88, 53, 80, 71, 31, 14])"
      ]
     },
     "execution_count": 15,
     "metadata": {},
     "output_type": "execute_result"
    },
    {
     "data": {
      "image/png": "[encoded data removed]",
      "text/plain": [
       "<matplotlib.figure.Figure at 0x11525def0>"
      ]
     },
     "metadata": {},
     "output_type": "display_data"
    }
   ],
   "source": [
    "df.hotel_cluster.hist(bins=100)\n",
    "df.hotel_cluster.unique()"
   ]
  },
  {
   "cell_type": "markdown",
   "metadata": {},
   "source": [
    "Ideas\n",
    "Customer personas based on how far, with children, multiple destinations, how long staying, when booked, how booked, \n",
    "user books a lot\n",
    "user books alone sometimes and sometimes with children\n",
    "location is seasonal - warm, holiday\n",
    "\n",
    "users loyal to a brand\n",
    "\n"
   ]
  },
  {
   "cell_type": "code",
   "execution_count": 18,
   "metadata": {
    "collapsed": false
   },
   "outputs": [
    {
     "data": {
      "text/plain": [
       "['Unnamed: 0',\n",
       " 'site_name',\n",
       " 'posa_continent',\n",
       " 'user_location_country',\n",
       " 'user_location_region',\n",
       " 'user_location_city',\n",
       " 'orig_destination_distance',\n",
       " 'user_id',\n",
       " 'is_mobile',\n",
       " 'is_package',\n",
       " 'channel',\n",
       " 'srch_adults_cnt',\n",
       " 'srch_children_cnt',\n",
       " 'srch_rm_cnt',\n",
       " 'srch_destination_id',\n",
       " 'srch_destination_type_id',\n",
       " 'is_booking',\n",
       " 'cnt',\n",
       " 'hotel_continent',\n",
       " 'hotel_country',\n",
       " 'hotel_market',\n",
       " 'hotel_cluster']"
      ]
     },
     "execution_count": 18,
     "metadata": {},
     "output_type": "execute_result"
    }
   ],
   "source": [
    "#[(col, dtype) for col, dtype in zip(df.columns, df.dtypes) if dtype != 'object']\n",
    "num_columns = [col for col, dtype in zip(df.columns, df.dtypes) if dtype != 'object']\n",
    "num_columns"
   ]
  },
  {
   "cell_type": "code",
   "execution_count": 32,
   "metadata": {
    "collapsed": false
   },
   "outputs": [
    {
     "data": {
      "text/plain": [
       "0.059499999999999997"
      ]
     },
     "execution_count": 32,
     "metadata": {},
     "output_type": "execute_result"
    }
   ],
   "source": [
    "feature_cols = ['site_name',\n",
    "             'posa_continent',\n",
    "             'user_location_country',\n",
    "             'user_location_region',\n",
    "             'user_location_city',\n",
    "             'is_mobile',\n",
    "             'is_package',\n",
    "             'channel',\n",
    "             'srch_adults_cnt',\n",
    "             'srch_children_cnt',\n",
    "             'srch_rm_cnt',\n",
    "             'srch_destination_id',\n",
    "             'srch_destination_type_id',\n",
    "             'is_booking',\n",
    "             'cnt',\n",
    "             'hotel_continent',\n",
    "             'hotel_country',\n",
    "             'hotel_market']\n",
    "X_train = df_train[feature_cols]\n",
    "y_train = df_train.hotel_cluster\n",
    "\n",
    "X_test = df_test[feature_cols]\n",
    "y_test = df_test.hotel_cluster\n",
    "\n",
    "model = DecisionTreeClassifier()\n",
    "model.fit(X_train, y_train)\n",
    "df_test['pred'] = model.predict(X_test)\n",
    "\n",
    "from sklearn.metrics import accuracy_score\n",
    "accuracy_score(y_test, df_test.pred)"
   ]
  },
  {
   "cell_type": "code",
   "execution_count": 25,
   "metadata": {
    "collapsed": false
   },
   "outputs": [
    {
     "name": "stdout",
     "output_type": "stream",
     "text": [
      "<class 'pandas.core.frame.DataFrame'>\n",
      "RangeIndex: 100000 entries, 0 to 99999\n",
      "Data columns (total 25 columns):\n",
      "Unnamed: 0                   100000 non-null int64\n",
      "date_time                    100000 non-null object\n",
      "site_name                    100000 non-null int64\n",
      "posa_continent               100000 non-null int64\n",
      "user_location_country        100000 non-null int64\n",
      "user_location_region         100000 non-null int64\n",
      "user_location_city           100000 non-null int64\n",
      "orig_destination_distance    64302 non-null float64\n",
      "user_id                      100000 non-null int64\n",
      "is_mobile                    100000 non-null int64\n",
      "is_package                   100000 non-null int64\n",
      "channel                      100000 non-null int64\n",
      "srch_ci                      99865 non-null object\n",
      "srch_co                      99865 non-null object\n",
      "srch_adults_cnt              100000 non-null int64\n",
      "srch_children_cnt            100000 non-null int64\n",
      "srch_rm_cnt                  100000 non-null int64\n",
      "srch_destination_id          100000 non-null int64\n",
      "srch_destination_type_id     100000 non-null int64\n",
      "is_booking                   100000 non-null int64\n",
      "cnt                          100000 non-null int64\n",
      "hotel_continent              100000 non-null int64\n",
      "hotel_country                100000 non-null int64\n",
      "hotel_market                 100000 non-null int64\n",
      "hotel_cluster                100000 non-null int64\n",
      "dtypes: float64(1), int64(21), object(3)\n",
      "memory usage: 19.1+ MB\n"
     ]
    }
   ],
   "source": [
    "df.info()"
   ]
  },
  {
   "cell_type": "code",
   "execution_count": 62,
   "metadata": {
    "collapsed": false
   },
   "outputs": [],
   "source": [
    "def user_analysis(group):\n",
    "    total_bookings = group['user_id'].count()\n",
    "    group['total_bookings'] = total_bookings\n",
    "    group['favorite_hotel'] = group.hotel_cluster.value_counts().index[0]\n",
    "    times_at_favorite = group.hotel_cluster.value_counts().tolist()[0]\n",
    "    if total_bookings > 2:\n",
    "        group['loyalty'] = times_at_favorite / total_bookings\n",
    "    else:\n",
    "        # use average loyalty for freq travelers\n",
    "        group['loyalty'] = 0.19\n",
    "    return group\n",
    "    \n",
    "\n",
    "df_freq = df.groupby('user_id').apply(user_analysis)"
   ]
  },
  {
   "cell_type": "code",
   "execution_count": 70,
   "metadata": {
    "collapsed": false
   },
   "outputs": [
    {
     "data": {
      "text/plain": [
       "user_id           610826.211888\n",
       "hotel_cluster         50.276454\n",
       "total_bookings         3.200871\n",
       "favorite_hotel        52.695619\n",
       "loyalty                0.376377\n",
       "dtype: float64"
      ]
     },
     "execution_count": 70,
     "metadata": {},
     "output_type": "execute_result"
    }
   ],
   "source": [
    "df_freq[df_freq.total_bookings > 2].sort_values(['total_bookings','user_id'], ascending=False)[['user_id', 'hotel_cluster', 'total_bookings', 'favorite_hotel', 'loyalty']].mean()"
   ]
  },
  {
   "cell_type": "code",
   "execution_count": 61,
   "metadata": {
    "collapsed": false
   },
   "outputs": [
    {
     "data": {
      "text/plain": [
       "4"
      ]
     },
     "execution_count": 61,
     "metadata": {},
     "output_type": "execute_result"
    }
   ],
   "source": [
    "df[df.user_id == 873383].hotel_cluster.value_counts().tolist()[0] #[0] #.type #.tolist()"
   ]
  },
  {
   "cell_type": "code",
   "execution_count": 71,
   "metadata": {
    "collapsed": true
   },
   "outputs": [],
   "source": [
    "df_loyalty = pd.read_csv('data/train.csv', usecols = ['user_id',\n",
    "       'hotel_market', 'hotel_cluster'], nrows=1000000).dropna()"
   ]
  },
  {
   "cell_type": "code",
   "execution_count": 94,
   "metadata": {
    "collapsed": true
   },
   "outputs": [],
   "source": [
    "df_profile = pd.read_csv('data/train.csv', usecols = ['user_id',\n",
    "       'hotel_market', 'hotel_cluster', 'is_mobile', 'is_package', \n",
    "        'channel', 'srch_ci', 'srch_co', 'srch_adults_cnt', 'srch_children_cnt', \n",
    "        'srch_rm_cnt'], nrows=1000000).dropna()\n",
    "\n"
   ]
  },
  {
   "cell_type": "code",
   "execution_count": 130,
   "metadata": {
    "collapsed": false
   },
   "outputs": [
    {
     "data": {
      "text/plain": [
       "240.0"
      ]
     },
     "execution_count": 130,
     "metadata": {},
     "output_type": "execute_result"
    }
   ],
   "source": [
    "df_profile['trip_start'] = pd.to_datetime(df['srch_ci'])\n",
    "df_profile['trip_end'] = pd.to_datetime(df['srch_co'])\n",
    "df_profile['trip_length'] = (df_profile.trip_end - df_profile.trip_start).astype('timedelta64[D]')\n",
    "\n",
    "# get average trip length and replace nan, neg values and zero\n",
    "#df_profile[df_profile.trip_length > 0].mean() # average is 3.4 days\n",
    "df_profile.loc[((df_profile.trip_length.isnull()) | (df_profile.trip_length < 1)), 'trip_length'] = 3.4\n",
    "df_profile['trip_start_day'] = df_profile.trip_start.dt.dayofweek\n",
    "df_profile.trip_length.max()"
   ]
  },
  {
   "cell_type": "code",
   "execution_count": 131,
   "metadata": {
    "collapsed": true
   },
   "outputs": [],
   "source": [
    "df_cprof = df_profile.groupby('user_id').apply(user_analysis)"
   ]
  },
  {
   "cell_type": "code",
   "execution_count": 132,
   "metadata": {
    "collapsed": false
   },
   "outputs": [
    {
     "data": {
      "text/plain": [
       "<matplotlib.axes._subplots.AxesSubplot at 0x129d50f98>"
      ]
     },
     "execution_count": 132,
     "metadata": {},
     "output_type": "execute_result"
    },
    {
     "data": {
      "image/png": "[encoded data removed]",
      "text/plain": [
       "<matplotlib.figure.Figure at 0x129fe9f60>"
      ]
     },
     "metadata": {},
     "output_type": "display_data"
    }
   ],
   "source": [
    "df_cprof.trip_length.hist(bins=100)"
   ]
  },
  {
   "cell_type": "code",
   "execution_count": 78,
   "metadata": {
    "collapsed": false
   },
   "outputs": [
    {
     "data": {
      "text/plain": [
       "user_id           1630\n",
       "hotel_cluster     1630\n",
       "total_bookings    1630\n",
       "favorite_hotel    1630\n",
       "loyalty           1630\n",
       "dtype: int64"
      ]
     },
     "execution_count": 78,
     "metadata": {},
     "output_type": "execute_result"
    }
   ],
   "source": [
    "df_freq2[df_freq2.total_bookings == 2].sort_values(['total_bookings','user_id'], ascending=False)[['user_id', 'hotel_cluster', 'total_bookings', 'favorite_hotel', 'loyalty']].count()"
   ]
  },
  {
   "cell_type": "code",
   "execution_count": 97,
   "metadata": {
    "collapsed": false
   },
   "outputs": [
    {
     "data": {
      "text/plain": [
       "Index(['user_id', 'hotel_market', 'hotel_cluster', 'total_bookings',\n",
       "       'favorite_hotel', 'loyalty'],\n",
       "      dtype='object')"
      ]
     },
     "execution_count": 97,
     "metadata": {},
     "output_type": "execute_result"
    },
    {
     "data": {
      "image/png": "[encoded data removed]",
      "text/plain": [
       "<matplotlib.figure.Figure at 0x13ced8278>"
      ]
     },
     "metadata": {},
     "output_type": "display_data"
    }
   ],
   "source": [
    "df_freq2.total_bookings.hist(bins=50)\n",
    "df_freq2.columns"
   ]
  },
  {
   "cell_type": "code",
   "execution_count": 109,
   "metadata": {
    "collapsed": false
   },
   "outputs": [
    {
     "data": {
      "text/plain": [
       "<matplotlib.axes._subplots.AxesSubplot at 0x115963630>"
      ]
     },
     "execution_count": 109,
     "metadata": {},
     "output_type": "execute_result"
    },
    {
     "data": {
      "image/png": "[encoded data removed]",
      "text/plain": [
       "<matplotlib.figure.Figure at 0x115c9e9e8>"
      ]
     },
     "metadata": {},
     "output_type": "display_data"
    }
   ],
   "source": [
    "df_cprof.loyalty.hist(bins=50)\n"
   ]
  },
  {
   "cell_type": "code",
   "execution_count": 134,
   "metadata": {
    "collapsed": false
   },
   "outputs": [
    {
     "data": {
      "text/plain": [
       "(799200, 199801)"
      ]
     },
     "execution_count": 134,
     "metadata": {},
     "output_type": "execute_result"
    }
   ],
   "source": [
    "df_train, df_test = train_test_split(df_cprof, test_size = 0.2)\n",
    "len(df_train), len(df_test)"
   ]
  },
  {
   "cell_type": "code",
   "execution_count": 139,
   "metadata": {
    "collapsed": false
   },
   "outputs": [
    {
     "name": "stderr",
     "output_type": "stream",
     "text": [
      "/Users/steven/anaconda3/lib/python3.5/site-packages/ipykernel/__main__.py:11: SettingWithCopyWarning: \n",
      "A value is trying to be set on a copy of a slice from a DataFrame.\n",
      "Try using .loc[row_indexer,col_indexer] = value instead\n",
      "\n",
      "See the caveats in the documentation: http://pandas.pydata.org/pandas-docs/stable/indexing.html#indexing-view-versus-copy\n"
     ]
    },
    {
     "data": {
      "text/plain": [
       "0.30038888694250782"
      ]
     },
     "execution_count": 139,
     "metadata": {},
     "output_type": "execute_result"
    }
   ],
   "source": [
    "feature_cols = ['user_id', 'hotel_market', 'total_bookings',\n",
    "       'favorite_hotel']\n",
    "X_train = df_train[feature_cols]\n",
    "y_train = df_train.hotel_cluster\n",
    "\n",
    "X_test = df_test[feature_cols]\n",
    "y_test = df_test.hotel_cluster\n",
    "\n",
    "model = DecisionTreeClassifier()\n",
    "model.fit(X_train, y_train)\n",
    "df_test['pred'] = model.predict(X_test)\n",
    "\n",
    "from sklearn.metrics import accuracy_score\n",
    "accuracy_score(y_test, df_test.pred)"
   ]
  },
  {
   "cell_type": "code",
   "execution_count": 140,
   "metadata": {
    "collapsed": true
   },
   "outputs": [],
   "source": [
    "df_submit = pd.read_csv('data/test.csv')"
   ]
  },
  {
   "cell_type": "code",
   "execution_count": null,
   "metadata": {
    "collapsed": false
   },
   "outputs": [],
   "source": [
    "# def test_user_analysis(group):\n",
    "#     user_id = group.user_id.min()\n",
    "#     total_bookings = group['user_id'].count() + df_cprof[df_cprof.user_id == user_id].total_bookings.min()\n",
    "#     group['total_bookings'] = total_bookings\n",
    "#     group['favorite_hotel'] = df_cprof[df_cprof.user_id == user_id].favorite_hotel.min()\n",
    "#     #times_at_favorite = group.hotel_cluster.value_counts().tolist()[0]\n",
    "#     if total_bookings > 2:\n",
    "#         group['loyalty'] = df_cprof[df_cprof.user_id == user_id].loyalty.min()\n",
    "#     else:\n",
    "#         # use average loyalty for freq travelers\n",
    "#         group['loyalty'] = 0.19\n",
    "#     return group\n",
    "\n",
    "\n",
    "# df_submit = df_submit.groupby('user_id').apply(test_user_analysis)\n",
    "\n",
    "df_submit = df_submit.merge(df_cprof[['user_id', 'favorite_hotel', 'total_bookings', 'loyalty']], on='user_id')\n"
   ]
  },
  {
   "cell_type": "code",
   "execution_count": 152,
   "metadata": {
    "collapsed": false
   },
   "outputs": [
    {
     "data": {
      "text/plain": [
       "Index(['id', 'date_time', 'site_name', 'posa_continent',\n",
       "       'user_location_country', 'user_location_region', 'user_location_city',\n",
       "       'orig_destination_distance', 'user_id', 'is_mobile_x', 'is_package_x',\n",
       "       'channel_x', 'srch_ci_x', 'srch_co_x', 'srch_adults_cnt_x',\n",
       "       'srch_children_cnt_x', 'srch_rm_cnt_x', 'srch_destination_id',\n",
       "       'srch_destination_type_id', 'hotel_continent', 'hotel_country',\n",
       "       'hotel_market_x', 'is_mobile_y', 'is_package_y', 'channel_y',\n",
       "       'srch_ci_y', 'srch_co_y', 'srch_adults_cnt_y', 'srch_children_cnt_y',\n",
       "       'srch_rm_cnt_y', 'hotel_market_y', 'hotel_cluster', 'trip_days',\n",
       "       'trip_start', 'trip_end', 'trip_length', 'trip_start_day',\n",
       "       'total_bookings', 'favorite_hotel', 'loyalty'],\n",
       "      dtype='object')"
      ]
     },
     "execution_count": 152,
     "metadata": {},
     "output_type": "execute_result"
    }
   ],
   "source": [
    "df_submit.columns"
   ]
  },
  {
   "cell_type": "code",
   "execution_count": 153,
   "metadata": {
    "collapsed": false
   },
   "outputs": [
    {
     "data": {
      "text/plain": [
       "240.0"
      ]
     },
     "execution_count": 153,
     "metadata": {},
     "output_type": "execute_result"
    }
   ],
   "source": [
    "df_submit['trip_start'] = pd.to_datetime(df['srch_ci'])\n",
    "df_submit['trip_end'] = pd.to_datetime(df['srch_co'])\n",
    "df_submit['trip_length'] = (df_submit.trip_end - df_submit.trip_start).astype('timedelta64[D]')\n",
    "\n",
    "# get average trip length and replace nan, neg values and zero\n",
    "#df_profile[df_profile.trip_length > 0].mean() # average is 3.4 days\n",
    "df_submit.loc[((df_submit.trip_length.isnull()) | (df_submit.trip_length < 1)), 'trip_length'] = 3.4\n",
    "df_submit['trip_start_day'] = df_submit.trip_start.dt.dayofweek\n",
    "df_submit.trip_length.max()"
   ]
  },
  {
   "cell_type": "code",
   "execution_count": 155,
   "metadata": {
    "collapsed": false
   },
   "outputs": [],
   "source": [
    "df_submit['hotel_market'] = df_submit['hotel_market_x']\n",
    "Xsub_test = df_submit[feature_cols]"
   ]
  },
  {
   "cell_type": "code",
   "execution_count": 156,
   "metadata": {
    "collapsed": true
   },
   "outputs": [],
   "source": [
    "df_submit['pred'] = model.predict(Xsub_test)\n"
   ]
  },
  {
   "cell_type": "code",
   "execution_count": 1,
   "metadata": {
    "collapsed": false
   },
   "outputs": [
    {
     "ename": "NameError",
     "evalue": "name 'df_submit' is not defined",
     "output_type": "error",
     "traceback": [
      "\u001b[0;31m---------------------------------------------------------------------------\u001b[0m",
      "\u001b[0;31mNameError\u001b[0m                                 Traceback (most recent call last)",
      "\u001b[0;32m<ipython-input-1-c2b9f5dab888>\u001b[0m in \u001b[0;36m<module>\u001b[0;34m()\u001b[0m\n\u001b[0;32m----> 1\u001b[0;31m \u001b[0mdf_submit\u001b[0m\u001b[0;34m[\u001b[0m\u001b[0;34m[\u001b[0m\u001b[0;34m'id'\u001b[0m\u001b[0;34m,\u001b[0m \u001b[0;34m'pred'\u001b[0m\u001b[0;34m]\u001b[0m\u001b[0;34m]\u001b[0m\u001b[0;34m.\u001b[0m\u001b[0mshape\u001b[0m\u001b[0;34m\u001b[0m\u001b[0m\n\u001b[0m",
      "\u001b[0;31mNameError\u001b[0m: name 'df_submit' is not defined"
     ]
    }
   ],
   "source": [
    "df_submit[['id', 'pred']].shape"
   ]
  },
  {
   "cell_type": "code",
   "execution_count": null,
   "metadata": {
    "collapsed": true
   },
   "outputs": [],
   "source": []
  }
 ],
 "metadata": {
  "kernelspec": {
   "display_name": "Python 3",
   "language": "python",
   "name": "python3"
  },
  "language_info": {
   "codemirror_mode": {
    "name": "ipython",
    "version": 3
   },
   "file_extension": ".py",
   "mimetype": "text/x-python",
   "name": "python",
   "nbconvert_exporter": "python",
   "pygments_lexer": "ipython3",
   "version": "3.5.1"
  }
 },
 "nbformat": 4,
 "nbformat_minor": 0
}
